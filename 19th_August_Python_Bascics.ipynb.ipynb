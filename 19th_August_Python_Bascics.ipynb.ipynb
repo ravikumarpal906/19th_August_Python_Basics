{
 "cells": [
  {
   "cell_type": "markdown",
   "id": "967b7f47-54bc-492b-afa3-0292e5f3e244",
   "metadata": {},
   "source": [
    "TOPIC: Python Basics Variable"
   ]
  },
  {
   "cell_type": "markdown",
   "id": "09620ccb-d053-4aca-bc5b-c2d1bdf90940",
   "metadata": {},
   "source": [
    "1. Declare two variables, `x` and `y`, and assign them integer values.\n",
    "Swap the values of these variables without using any temporary\n",
    "variable."
   ]
  },
  {
   "cell_type": "code",
   "execution_count": 4,
   "id": "28850865-054c-4d8f-9c4e-bd9b811386dd",
   "metadata": {},
   "outputs": [],
   "source": [
    "#Declare two variables\n",
    "x=5\n",
    "y=10"
   ]
  },
  {
   "cell_type": "code",
   "execution_count": 5,
   "id": "be0630b6-0c09-4ad4-baa9-961404f9e743",
   "metadata": {},
   "outputs": [],
   "source": [
    "# Swaping the value of x into y and y into x\n",
    "x = x + y\n",
    "y = x - y\n",
    "x = x - y"
   ]
  },
  {
   "cell_type": "code",
   "execution_count": 8,
   "id": "34baa716-f759-4583-bfeb-476344c6d443",
   "metadata": {},
   "outputs": [
    {
     "name": "stdout",
     "output_type": "stream",
     "text": [
      "After swapping:\n",
      "x = 10\n",
      "y = 5\n"
     ]
    }
   ],
   "source": [
    "#display the swaped value\n",
    "print(\"After swapping:\")\n",
    "print(\"x =\", x)\n",
    "print(\"y =\", y)"
   ]
  },
  {
   "cell_type": "markdown",
   "id": "126457d5-db35-4867-8bcf-84495b22341c",
   "metadata": {},
   "source": [
    "2. Create a program that calculates the area of a rectangle. Take the\n",
    "length and width as inputs from the user and store them in variables.\n",
    "Calculate and display the area."
   ]
  },
  {
   "cell_type": "code",
   "execution_count": 1,
   "id": "a0160f61-67fc-4785-b648-027f849c4bdf",
   "metadata": {},
   "outputs": [
    {
     "name": "stdin",
     "output_type": "stream",
     "text": [
      "Enter length of rectangle:  50\n",
      "Enter width of rectangle:  10\n"
     ]
    }
   ],
   "source": [
    "# Get input from the user for length and width\n",
    "x=float(input(\"Enter length of rectangle: \"))\n",
    "y=float(input(\"Enter width of rectangle: \"))"
   ]
  },
  {
   "cell_type": "code",
   "execution_count": 2,
   "id": "7074f649-59e9-41d3-8523-27ed257ed480",
   "metadata": {},
   "outputs": [],
   "source": [
    "# Calculate the area of the rectangle\n",
    "a=x*y"
   ]
  },
  {
   "cell_type": "code",
   "execution_count": 3,
   "id": "fd459b10-8b85-42d4-9ffb-933fd4e9ea82",
   "metadata": {},
   "outputs": [
    {
     "name": "stdout",
     "output_type": "stream",
     "text": [
      "The area of the rectangle is: 500.0\n"
     ]
    }
   ],
   "source": [
    "# Display the calculated area\n",
    "print(f\"The area of the rectangle is: {a}\")"
   ]
  },
  {
   "cell_type": "markdown",
   "id": "6ed0e970-3699-4566-890b-459613168348",
   "metadata": {},
   "source": [
    "3. Write a Python program that converts temperatures from Celsius to\n",
    "Fahrenheit. Take the temperature in Celsius as input, store it in a variable,\n",
    "convert it to Fahrenheit, and display the result."
   ]
  },
  {
   "cell_type": "code",
   "execution_count": 4,
   "id": "71814ba2-ae9f-450b-846a-c6d1f44b49a6",
   "metadata": {},
   "outputs": [
    {
     "name": "stdin",
     "output_type": "stream",
     "text": [
      "Enter temperature in Celsius:  35\n"
     ]
    }
   ],
   "source": [
    "# Get input from the user for temperature in Celsius\n",
    "c = float(input(\"Enter temperature in Celsius: \"))"
   ]
  },
  {
   "cell_type": "code",
   "execution_count": 5,
   "id": "50c9378f-2bb1-41f3-a615-c9e5a21e7563",
   "metadata": {},
   "outputs": [],
   "source": [
    "# Convert Celsius to Fahrenheit\n",
    "f = (c * 9/5) + 32"
   ]
  },
  {
   "cell_type": "code",
   "execution_count": 6,
   "id": "51217f01-943f-44c6-9560-3ce83454196f",
   "metadata": {},
   "outputs": [
    {
     "name": "stdout",
     "output_type": "stream",
     "text": [
      "35.0 degrees Celsius is equal to 95.0 degrees Fahrenheit\n"
     ]
    }
   ],
   "source": [
    "# Display the converted temperature in Fahrenheit\n",
    "print(f\"{c} degrees Celsius is equal to {f} degrees Fahrenheit\")"
   ]
  },
  {
   "cell_type": "markdown",
   "id": "e3ef6858-fcb0-4704-8a40-26907dcc4085",
   "metadata": {},
   "source": [
    "TOPIC: String Based Questions"
   ]
  },
  {
   "cell_type": "markdown",
   "id": "3dadb545-fd72-4299-8270-7ece200fc901",
   "metadata": {},
   "source": [
    "1. Write a Python program that takes a string as input and prints the length of\n",
    "the string."
   ]
  },
  {
   "cell_type": "code",
   "execution_count": 7,
   "id": "62835e69-0afa-44f3-b612-bd0e8f286b74",
   "metadata": {},
   "outputs": [
    {
     "name": "stdin",
     "output_type": "stream",
     "text": [
      "Enter a string:  pwskills\n"
     ]
    }
   ],
   "source": [
    "# Get input from the user\n",
    "s = input(\"Enter a string: \")"
   ]
  },
  {
   "cell_type": "code",
   "execution_count": 8,
   "id": "89e94928-e340-4e7b-85dc-99bc5d3193f3",
   "metadata": {},
   "outputs": [
    {
     "name": "stdout",
     "output_type": "stream",
     "text": [
      "The length of the entered string is: 8\n"
     ]
    }
   ],
   "source": [
    "# Display the length of the string\n",
    "print(f\"The length of the entered string is: {len(s)}\")"
   ]
  },
  {
   "cell_type": "markdown",
   "id": "f1a224b0-90d9-47d6-b710-7e613cdb3e56",
   "metadata": {},
   "source": [
    "2. Create a program that takes a sentence from the user and counts the number\n",
    "of vowels (a, e, i, o, u) in the string."
   ]
  },
  {
   "cell_type": "code",
   "execution_count": 9,
   "id": "edac5055-1808-4d03-a551-a446cca0446e",
   "metadata": {},
   "outputs": [
    {
     "name": "stdin",
     "output_type": "stream",
     "text": [
      "Enter a sentence:  my name is ravi kumar pal\n"
     ]
    }
   ],
   "source": [
    "# Get input sentence from the user\n",
    "s = input(\"Enter a sentence: \")"
   ]
  },
  {
   "cell_type": "code",
   "execution_count": 10,
   "id": "5041ca7f-a0d8-4d71-a7dc-5ca04bd225b2",
   "metadata": {},
   "outputs": [],
   "source": [
    "# Initialize a variable to count vowels\n",
    "vowel_count = 0"
   ]
  },
  {
   "cell_type": "code",
   "execution_count": 11,
   "id": "a89723b1-30da-475d-837b-5b7d93e202af",
   "metadata": {},
   "outputs": [],
   "source": [
    "# Define a set of vowels\n",
    "vowels = \"aeiouAEIOU\""
   ]
  },
  {
   "cell_type": "code",
   "execution_count": 13,
   "id": "30cc119c-d00d-4738-a4d3-245564c09cab",
   "metadata": {},
   "outputs": [],
   "source": [
    "# Iterate through each character in the sentence\n",
    "for char in s:\n",
    "    if char in vowels:\n",
    "        vowel_count += 1"
   ]
  },
  {
   "cell_type": "code",
   "execution_count": 14,
   "id": "eeb3ac35-25fe-4878-8195-c49165208f80",
   "metadata": {},
   "outputs": [
    {
     "name": "stdout",
     "output_type": "stream",
     "text": [
      "The number of vowels in the sentence is: 8\n"
     ]
    }
   ],
   "source": [
    "# Display the vowel count\n",
    "print(f\"The number of vowels in the sentence is: {vowel_count}\")"
   ]
  },
  {
   "cell_type": "markdown",
   "id": "577e807d-278f-40cb-892f-3d6bd4dff035",
   "metadata": {},
   "source": [
    "3. Given a string, reverse the order of characters using string slicing and print\n",
    "the reversed string."
   ]
  },
  {
   "cell_type": "code",
   "execution_count": 16,
   "id": "61702669-334c-460f-a25a-1f2e36ae6ed1",
   "metadata": {},
   "outputs": [
    {
     "name": "stdin",
     "output_type": "stream",
     "text": [
      "Enter a string:  pwskills\n"
     ]
    }
   ],
   "source": [
    "# Get input string from the user\n",
    "input_string = input(\"Enter a string: \")"
   ]
  },
  {
   "cell_type": "code",
   "execution_count": 17,
   "id": "9250344c-09dd-4f76-9477-cc1a30953290",
   "metadata": {},
   "outputs": [],
   "source": [
    "# Use string slicing to reverse the string\n",
    "reversed_string = input_string[::-1]"
   ]
  },
  {
   "cell_type": "code",
   "execution_count": 20,
   "id": "66933eb4-1c6f-4db4-bac4-a5a5dd1a00a9",
   "metadata": {},
   "outputs": [
    {
     "name": "stdout",
     "output_type": "stream",
     "text": [
      "Reversed string: sllikswp\n"
     ]
    }
   ],
   "source": [
    "# Display the reversed string\n",
    "print(f\"Reversed string: {reversed_string}\")"
   ]
  },
  {
   "cell_type": "markdown",
   "id": "d8749b86-17c2-4c28-b544-21d8679f34c1",
   "metadata": {},
   "source": [
    "4. Write a program that takes a string as input and checks if it is a palindrome\n",
    "(reads the same forwards and backwards)."
   ]
  },
  {
   "cell_type": "code",
   "execution_count": 25,
   "id": "eabd019c-0427-4744-93ad-d0c41f969e33",
   "metadata": {},
   "outputs": [
    {
     "name": "stdin",
     "output_type": "stream",
     "text": [
      "Enter a string:  aja\n"
     ]
    }
   ],
   "source": [
    " #Get input string from the uder\n",
    "s=input(\"Enter a string: \")"
   ]
  },
  {
   "cell_type": "code",
   "execution_count": 28,
   "id": "285ae8c1-5ba9-4b04-b962-5f03cfe3ac77",
   "metadata": {},
   "outputs": [],
   "source": [
    "# Remove spaces and convert the string to lowercase for accurate comparison\n",
    "cs = s.replace(\" \", \"\").lower()"
   ]
  },
  {
   "cell_type": "code",
   "execution_count": 29,
   "id": "7d961814-c9fd-4c49-9210-15fe556e6a9b",
   "metadata": {},
   "outputs": [],
   "source": [
    "#reverse the string\n",
    "rs=cs[::-1]"
   ]
  },
  {
   "cell_type": "code",
   "execution_count": 30,
   "id": "2f0732ff-6852-460d-9ca1-f23367074660",
   "metadata": {},
   "outputs": [
    {
     "name": "stdout",
     "output_type": "stream",
     "text": [
      "String is palindrome\n"
     ]
    }
   ],
   "source": [
    "if(rs==cs):\n",
    "    print(f\"String is palindrome\")\n",
    "else:\n",
    "    print(f\"String is not palindrome\")"
   ]
  },
  {
   "cell_type": "markdown",
   "id": "5f60cf3f-9512-468e-8572-75d8d70bd526",
   "metadata": {},
   "source": [
    "5. Create a program that takes a string as input and removes all the spaces from\n",
    "it. Print the modified string without spaces."
   ]
  },
  {
   "cell_type": "code",
   "execution_count": 2,
   "id": "cc930fa1-a28c-4420-b964-3b236a4a2d84",
   "metadata": {},
   "outputs": [
    {
     "name": "stdin",
     "output_type": "stream",
     "text": [
      "Enter a string my name is ravi\n"
     ]
    }
   ],
   "source": [
    "#Get input string from the user\n",
    "s=input(\"Enter a string\")"
   ]
  },
  {
   "cell_type": "code",
   "execution_count": 3,
   "id": "f2f181ec-5310-48b6-9708-a24a68074b34",
   "metadata": {},
   "outputs": [],
   "source": [
    "#Remove spaces from the string\n",
    "clean_string=s.replace(\" \",\"\")"
   ]
  },
  {
   "cell_type": "code",
   "execution_count": 5,
   "id": "fa268d7f-b192-43dc-b3ef-8e6364bc240a",
   "metadata": {},
   "outputs": [
    {
     "name": "stdout",
     "output_type": "stream",
     "text": [
      "Modified String: mynameisravi\n"
     ]
    }
   ],
   "source": [
    "#Display modified string without spaces\n",
    "print(f\"Modified String: {clean_string}\")"
   ]
  },
  {
   "cell_type": "code",
   "execution_count": null,
   "id": "5896b850-cf0b-41d6-b9be-db6bd00d53ed",
   "metadata": {},
   "outputs": [],
   "source": []
  }
 ],
 "metadata": {
  "kernelspec": {
   "display_name": "Python 3 (ipykernel)",
   "language": "python",
   "name": "python3"
  },
  "language_info": {
   "codemirror_mode": {
    "name": "ipython",
    "version": 3
   },
   "file_extension": ".py",
   "mimetype": "text/x-python",
   "name": "python",
   "nbconvert_exporter": "python",
   "pygments_lexer": "ipython3",
   "version": "3.10.8"
  }
 },
 "nbformat": 4,
 "nbformat_minor": 5
}
